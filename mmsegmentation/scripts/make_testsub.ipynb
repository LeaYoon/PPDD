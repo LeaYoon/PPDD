{
 "cells": [
  {
   "cell_type": "code",
   "execution_count": 6,
   "metadata": {},
   "outputs": [
    {
     "name": "stdout",
     "output_type": "stream",
     "text": [
      "['100006', '100008', '100028', '10003', '100031', '100034', '100042', '100045', '100052', '100059', '10006', '100061', '100070', '100081', '100086', '100088', '10009', '100111', '10014', '100143', '100151', '100153', '100155', '100164', '100171', '10018', '100183', '1002', '100208', '100217', '10022', '100230', '100234', '100236', '100246', '100251', '100256', '100259', '100290', '100310', '100324', '100325', '100335', '100339', '100364', '100374', '100397', '100405', '100411', '100416', '100428', '10043', '100435', '10044', '100444', '100445', '100449', '100456', '100457', '100462', '100478', '100489', '100493', '100501', '100505', '100518', '100523', '100530', '100539', '100557', '100569', '10057', '100577', '100580', '100597', '100598', '100606', '100613', '100617', '100629', '10064', '100648', '100651', '100655', '100662', '100666', '100674', '100685', '100693', '100708', '100722', '100741', '100748', '100753', '100758', '100759', '100773', '100778', '100800', '10081', '100812', '100813', '100820', '100841', '100865', '100882', '100885', '100894', '100897', '10090', '100902', '100916', '100921', '100929', '10093', '100936', '100940', '100952', '100955', '100960', '100991', '100992', '101019', '101026', '101029', '101042', '101074', '101078', '101082', '101087', '101121', '101137', '101151', '101159', '101169', '101190', '101193', '101197', '101209', '101229', '101242', '101272', '101292', '101312', '101317', '101319', '101322', '101325', '101329', '101351', '101379', '10138', '101390', '1014', '101404', '10141', '101411', '101420', '101422', '101426', '101439', '101443', '101470', '101485', '101487', '101497', '10152', '101522', '101523', '101526', '101530', '101534', '101545', '101557', '101560', '101561', '101567', '10157', '101571', '101572', '101595', '10160', '101607', '101612', '101614', '101623', '10163', '10166', '101690', '101702', '101703', '101705', '101723', '101738', '101745', '101749', '101769', '101777', '101795', '10180']\n"
     ]
    }
   ],
   "source": [
    "import os\n",
    "import shutil\n",
    "\n",
    "inst_seg_test_sub1_path = r\"/home/project/host_workspace/mmdet/outputs/mask_annotation_test_sub1_onlymask\"\n",
    "sem_seg_test_path = r\"/home/project/host_workspace/dataset/MM_RDDPHCV_CAR\"\n",
    "save_path = r\"/home/project/host_workspace/mmseg/outputs/sem_mask_annotation_test_sub1_onlymask\"\n",
    "\n",
    "# get the image name from the path \n",
    "image_name_list = []\n",
    "for img_name in os.listdir(inst_seg_test_sub1_path):\n",
    "    img_name = img_name.split(\".\")[0]\n",
    "    image_name_list.append(img_name)\n",
    "\n",
    "print(image_name_list)\n",
    "\n",
    "# copy the image and mask to the save path\n",
    "os.makedirs(save_path, exist_ok=True)\n",
    "os.makedirs(os.path.join(save_path, \"images\"), exist_ok=True)\n",
    "os.makedirs(os.path.join(save_path, \"annotations\"), exist_ok=True)\n",
    "\n",
    "for img_name in image_name_list:\n",
    "    img_path = os.path.join(sem_seg_test_path, \"images\", \"test\", img_name + \".PNG\")\n",
    "    mask_path = os.path.join(sem_seg_test_path, \"annotations\", \"test\", img_name + \".PNG\")\n",
    "    save_img_path = os.path.join(save_path, \"images\", img_name + \".PNG\")\n",
    "    save_mask_path = os.path.join(save_path, \"annotations\", img_name + \".PNG\")\n",
    "    shutil.copy(img_path, save_img_path)\n",
    "    shutil.copy(mask_path, save_mask_path)\n",
    "\n"
   ]
  }
 ],
 "metadata": {
  "kernelspec": {
   "display_name": "mmseg",
   "language": "python",
   "name": "python3"
  },
  "language_info": {
   "codemirror_mode": {
    "name": "ipython",
    "version": 3
   },
   "file_extension": ".py",
   "mimetype": "text/x-python",
   "name": "python",
   "nbconvert_exporter": "python",
   "pygments_lexer": "ipython3",
   "version": "3.8.20"
  }
 },
 "nbformat": 4,
 "nbformat_minor": 2
}
